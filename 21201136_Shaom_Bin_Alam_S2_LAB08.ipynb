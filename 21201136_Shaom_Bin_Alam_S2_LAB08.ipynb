{
  "cells": [
    {
      "cell_type": "code",
      "execution_count": 13,
      "metadata": {
        "id": "D6vC520OPeTa"
      },
      "outputs": [],
      "source": [
        "class BTNode:\n",
        "  def __init__(self, elem):\n",
        "    self.elem = elem\n",
        "    self.right = None\n",
        "    self.left = None"
      ]
    },
    {
      "cell_type": "code",
      "execution_count": 14,
      "metadata": {
        "id": "UDTKlm4-PfNM"
      },
      "outputs": [],
      "source": [
        "def inorder(root):\n",
        "  if root == None:\n",
        "    return\n",
        "\n",
        "  inorder(root.left)\n",
        "  print(root.elem, end = ' ')\n",
        "  inorder(root.right)"
      ]
    },
    {
      "cell_type": "code",
      "execution_count": 15,
      "metadata": {
        "colab": {
          "base_uri": "https://localhost:8080/"
        },
        "id": "Rtc22SPzPgzM",
        "outputId": "1b090065-b35d-4309-9371-7d6d71f1f0b6"
      },
      "outputs": [
        {
          "output_type": "stream",
          "name": "stdout",
          "text": [
            "H D B E A I F J C G k "
          ]
        }
      ],
      "source": [
        "def tree_construction(arr, i = 1):\n",
        "  if i>=len(arr) or arr[i] == None:\n",
        "    return None\n",
        "\n",
        "  p = BTNode(arr[i])\n",
        "  p.left = tree_construction(arr, 2*i)\n",
        "  p.right = tree_construction(arr, 2*i+1)\n",
        "  return p\n",
        "\n",
        "\n",
        "root2 = tree_construction([None, 'A', 'B', 'C', 'D', 'E', 'F', 'G', 'H', None, None, None, 'I', 'J', None, 'k'])\n",
        "inorder(root2)"
      ]
    },
    {
      "cell_type": "markdown",
      "metadata": {
        "id": "S2nNCJNhPqGq"
      },
      "source": [
        "Task 1"
      ]
    },
    {
      "cell_type": "code",
      "execution_count": 21,
      "metadata": {
        "colab": {
          "base_uri": "https://localhost:8080/"
        },
        "id": "zbBHU3FoPieb",
        "outputId": "6575aff4-7765-4755-b6d8-c996e85b162b"
      },
      "outputs": [
        {
          "output_type": "stream",
          "name": "stdout",
          "text": [
            "Given Tree Inorder Traversal:  40 20 60 10 30 \n",
            "Mirrored Tree Inorder Traversal:  30 10 60 20 40 "
          ]
        }
      ],
      "source": [
        "class BtNode:\n",
        "  def __init__(self, data):\n",
        "    self.data = data\n",
        "    self.left = None\n",
        "    self.right = None\n",
        "\n",
        "def convert_mirror(root):\n",
        "  if root is None:\n",
        "    return None\n",
        "  root.left, root.right = root.right, root.left\n",
        "  convert_mirror(root.left)\n",
        "  convert_mirror(root.right)\n",
        "  return root\n",
        "\n",
        "def inorder(root):\n",
        "  if root == None:\n",
        "    return\n",
        "  inorder(root.left)\n",
        "  print(root.elem, end = ' ')\n",
        "  inorder(root.right)\n",
        "\n",
        "\n",
        "#DRIVER CODE\n",
        "root = BTNode(10)\n",
        "n1 = BTNode(20)\n",
        "n2 = BTNode(30)\n",
        "n3 = BTNode(40)\n",
        "n4 = BTNode(60)\n",
        "\n",
        "root.left = n1\n",
        "root.right = n2\n",
        "\n",
        "n1.left = n3\n",
        "n1.right = n4\n",
        "\n",
        "print('Given Tree Inorder Traversal: ', end = ' ')\n",
        "inorder(root) #Given Tree Inorder Traversal:  40 20 60 10 30\n",
        "print()\n",
        "\n",
        "root2 = convert_mirror(root)\n",
        "print('Mirrored Tree Inorder Traversal: ', end = ' ')\n",
        "inorder(root2) #Mirrored Tree Inorder Traversal:  30 10 60 20 40"
      ]
    },
    {
      "cell_type": "markdown",
      "metadata": {
        "id": "c-TBf3m0PrtK"
      },
      "source": [
        "Task 2"
      ]
    },
    {
      "cell_type": "code",
      "execution_count": 22,
      "metadata": {
        "colab": {
          "base_uri": "https://localhost:8080/"
        },
        "id": "lsuxinlBPmji",
        "outputId": "883371f3-3770-404e-c222-808eb1fdb38b"
      },
      "outputs": [
        {
          "output_type": "stream",
          "name": "stdout",
          "text": [
            "Given Tree Inorder Traversal:  3 9 5 4 2 7 \n",
            "Level Wise Largest Value:  {0: 4, 1: 9, 2: 7}\n"
          ]
        }
      ],
      "source": [
        "class BtNode:\n",
        "    def __init__(self, data):\n",
        "        self.data = data\n",
        "        self.left = None\n",
        "        self.right = None\n",
        "\n",
        "def largest_level(root):\n",
        "    if root is None:\n",
        "        return {}\n",
        "\n",
        "    level_values = {}\n",
        "    queue = [(root, 0)]\n",
        "\n",
        "    while queue:\n",
        "        node, level = queue.pop(0)\n",
        "\n",
        "        if level not in level_values:\n",
        "            level_values[level] = node.data\n",
        "        else:\n",
        "            level_values[level] = max(level_values[level], node.data)\n",
        "\n",
        "        if node.left:\n",
        "            queue.append((node.left, level + 1))\n",
        "        if node.right:\n",
        "            queue.append((node.right, level + 1))\n",
        "\n",
        "    return level_values\n",
        "\n",
        "def tree_construction(arr, i=1):\n",
        "    if i >= len(arr) or arr[i] is None:\n",
        "        return None\n",
        "\n",
        "    p = BtNode(arr[i])\n",
        "    p.left = tree_construction(arr, 2*i)\n",
        "    p.right = tree_construction(arr, 2*i + 1)\n",
        "    return p\n",
        "\n",
        "def inorder(node):\n",
        "    if node is not None:\n",
        "        inorder(node.left)\n",
        "        print(node.data, end=' ')\n",
        "        inorder(node.right)\n",
        "\n",
        "#DRIVER CODE\n",
        "root = tree_construction([None, 4,9,2,3,5,None,7])\n",
        "print('Given Tree Inorder Traversal: ', end = ' ')\n",
        "inorder(root) #Given Tree Inorder Traversal:  3 9 5 4 2 7\n",
        "print()\n",
        "print('Level Wise Largest Value: ', end = ' ')\n",
        "print(largest_level(root)) #Level Wise Largest Value:  {0: 4, 1: 9, 2: 7}"
      ]
    },
    {
      "cell_type": "markdown",
      "metadata": {
        "id": "7r3lH3aWPz2d"
      },
      "source": [
        "Task 3"
      ]
    },
    {
      "cell_type": "code",
      "execution_count": 23,
      "metadata": {
        "colab": {
          "base_uri": "https://localhost:8080/"
        },
        "id": "zFwP64v4Pu6d",
        "outputId": "79943692-0923-43ba-c2cf-d9a95f57a260"
      },
      "outputs": [
        {
          "output_type": "stream",
          "name": "stdout",
          "text": [
            "Given Tree Inorder Traversal:  4 8 10 12 14 20 22 \n",
            "Inorder successor of node 8: 10\n"
          ]
        }
      ],
      "source": [
        "class BTNode:\n",
        "    def __init__(self, elem, left=None, right=None):\n",
        "        self.elem = elem\n",
        "        self.left = left\n",
        "        self.right = right\n",
        "\n",
        "def inorder_successor(root, x):\n",
        "    if not root:\n",
        "        return None\n",
        "\n",
        "    successor = None\n",
        "\n",
        "    while root:\n",
        "        if x.elem < root.elem:\n",
        "            successor = root\n",
        "            root = root.left\n",
        "        else:\n",
        "            root = root.right\n",
        "\n",
        "    return successor\n",
        "\n",
        "def inorder(node):\n",
        "    if node:\n",
        "        inorder(node.left)\n",
        "        print(node.elem, end=' ')\n",
        "        inorder(node.right)\n",
        "\n",
        "\n",
        "#DRIVER CODE\n",
        "root = BTNode(20)\n",
        "n1 = BTNode(8)\n",
        "n2 = BTNode(22)\n",
        "n3 = BTNode(4)\n",
        "n4 = BTNode(12)\n",
        "n5 = BTNode(10)\n",
        "n6 = BTNode(14)\n",
        "\n",
        "root.left = n1\n",
        "root.right = n2\n",
        "\n",
        "n1.left = n3\n",
        "n1.right = n4\n",
        "\n",
        "n4.left = n5\n",
        "n4.right = n6\n",
        "\n",
        "print('Given Tree Inorder Traversal: ', end = ' ')\n",
        "inorder(root) #Given Tree Inorder Traversal:  4 8 10 12 14 20 22\n",
        "print()\n",
        "\n",
        "x = n1\n",
        "print(f'Inorder successor of node {x.elem}: {inorder_successor(root, x).elem}') #Inorder successor of node 8: 10"
      ]
    },
    {
      "cell_type": "markdown",
      "metadata": {
        "id": "t3IGW4OaP8Vy"
      },
      "source": [
        "Task 4"
      ]
    },
    {
      "cell_type": "code",
      "execution_count": 20,
      "metadata": {
        "colab": {
          "base_uri": "https://localhost:8080/"
        },
        "id": "d1A-tR7hP2fI",
        "outputId": "861ddd08-0797-4151-83fa-dfbd7d34f391"
      },
      "outputs": [
        {
          "output_type": "stream",
          "name": "stdout",
          "text": [
            "Given Tree Inorder Traversal:  4 5 6 7 8 9 11 12 \n"
          ]
        }
      ],
      "source": [
        "class BTNode:\n",
        "    def __init__(self, elem, left=None, right=None):\n",
        "        self.elem = elem\n",
        "        self.left = left\n",
        "        self.right = right\n",
        "\n",
        "def kth_smallest(root, k, i=0):\n",
        "    if not root:\n",
        "        return None\n",
        "    left_result = kth_smallest(root.left, k, i)\n",
        "    if left_result is not None:\n",
        "        return left_result\n",
        "\n",
        "    i += 1\n",
        "    if i == k:\n",
        "        return root\n",
        "\n",
        "    return kth_smallest(root.right, k, i)\n",
        "\n",
        "def inorder(node):\n",
        "    if node:\n",
        "        inorder(node.left)\n",
        "        print(node.elem, end=' ')\n",
        "        inorder(node.right)\n",
        "\n",
        "def tree_construction(arr, i=1):\n",
        "    if i >= len(arr) or arr[i] is None:\n",
        "        return None\n",
        "\n",
        "    root = BTNode(arr[i])\n",
        "    root.left = tree_construction(arr, 2 * i)\n",
        "    root.right = tree_construction(arr, 2 * i + 1)\n",
        "    return root\n",
        "\n",
        "#DRIVER CODE\n",
        "root = tree_construction([None, 9,5,11,4,7,None,12,None,None,6,8,None,None,None,None])\n",
        "print('Given Tree Inorder Traversal: ', end = ' ')\n",
        "inorder(root)\n",
        "print()\n",
        "k = 4\n",
        "print(kth_smallest(root,k).elem)"
      ]
    },
    {
      "cell_type": "markdown",
      "metadata": {
        "id": "SBD-0xoZP_ni"
      },
      "source": [
        "Bonus"
      ]
    },
    {
      "cell_type": "code",
      "execution_count": null,
      "metadata": {
        "id": "m4E9_E8PThk6"
      },
      "outputs": [],
      "source": [
        "#WRITE THE FUNCTION AND DRIVER CODE BY YOURSELF"
      ]
    }
  ],
  "metadata": {
    "colab": {
      "provenance": []
    },
    "kernelspec": {
      "display_name": "Python 3",
      "name": "python3"
    },
    "language_info": {
      "name": "python"
    }
  },
  "nbformat": 4,
  "nbformat_minor": 0
}