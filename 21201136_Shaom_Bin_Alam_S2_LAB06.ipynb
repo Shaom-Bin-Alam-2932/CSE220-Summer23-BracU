{
  "nbformat": 4,
  "nbformat_minor": 0,
  "metadata": {
    "colab": {
      "provenance": []
    },
    "kernelspec": {
      "name": "python3",
      "display_name": "Python 3"
    },
    "language_info": {
      "name": "python"
    }
  },
  "cells": [
    {
      "cell_type": "code",
      "execution_count": 6,
      "metadata": {
        "id": "NBb_pzt3sxYf",
        "colab": {
          "base_uri": "https://localhost:8080/"
        },
        "outputId": "afbeb0af-3371-42e5-d038-646342701503"
      },
      "outputs": [
        {
          "output_type": "stream",
          "name": "stdout",
          "text": [
            "The factorial of 5 is 120\n"
          ]
        }
      ],
      "source": [
        "#Task: 01\n",
        "#a\n",
        "\n",
        "def factorial(n):\n",
        "    if n == 0 or n == 1:\n",
        "        return 1\n",
        "    else:\n",
        "        return n * factorial(n - 1)\n",
        "\n",
        "\n",
        "n = 5\n",
        "result = factorial(n)\n",
        "print(f\"The factorial of {n} is {result}\")"
      ]
    },
    {
      "cell_type": "code",
      "source": [
        "#Task: 01\n",
        "#b\n",
        "\n",
        "def fibonacci(n):\n",
        "  if n <= 0:\n",
        "    return 0\n",
        "  elif n == 1:\n",
        "    return 1\n",
        "  else:\n",
        "    return fibonacci(n-1) + fibonacci(n-2)\n",
        "\n",
        "n = 6\n",
        "result = fibonacci(n)\n",
        "print(f\"The n-th fibonacci number is : {result}\")"
      ],
      "metadata": {
        "colab": {
          "base_uri": "https://localhost:8080/"
        },
        "id": "TAdBEeIRwdmv",
        "outputId": "0fd11054-f45e-4e73-cd02-5f0e122aaad1"
      },
      "execution_count": 7,
      "outputs": [
        {
          "output_type": "stream",
          "name": "stdout",
          "text": [
            "The n-th fibonacci number is : 8\n"
          ]
        }
      ]
    },
    {
      "cell_type": "code",
      "source": [
        "#Task: 01\n",
        "#c\n",
        "\n",
        "def PrintArray(arr,idx):\n",
        "  if idx == len(arr):\n",
        "    return\n",
        "  else:\n",
        "    print(arr[idx])\n",
        "    PrintArray(arr, idx + 1)\n",
        "\n",
        "arr = [1, 2, 3, 4, 5]\n",
        "PrintArray(arr, 0)"
      ],
      "metadata": {
        "id": "ggqFlIYl3_R1",
        "colab": {
          "base_uri": "https://localhost:8080/"
        },
        "outputId": "8a11725f-fcc4-4167-b973-3e700c20d0ab"
      },
      "execution_count": 8,
      "outputs": [
        {
          "output_type": "stream",
          "name": "stdout",
          "text": [
            "1\n",
            "2\n",
            "3\n",
            "4\n",
            "5\n"
          ]
        }
      ]
    },
    {
      "cell_type": "code",
      "source": [
        "#Task: 01\n",
        "#d\n",
        "\n",
        "def powerN(base, n):\n",
        "    if n == 0:\n",
        "        return 1\n",
        "    else:\n",
        "        return base * powerN(base, n - 1)\n",
        "\n",
        "\n",
        "base = 3\n",
        "n = 2\n",
        "result = powerN(base, n)\n",
        "print(f\"{base} to the power of {n} is {result}\")"
      ],
      "metadata": {
        "colab": {
          "base_uri": "https://localhost:8080/"
        },
        "id": "z_RPhGIg6Dxx",
        "outputId": "a1f8a0eb-8dca-41f9-be3f-dbf1e2fef2f5"
      },
      "execution_count": 9,
      "outputs": [
        {
          "output_type": "stream",
          "name": "stdout",
          "text": [
            "3 to the power of 2 is 9\n"
          ]
        }
      ]
    },
    {
      "cell_type": "code",
      "source": [
        "#Task: 02\n",
        "#a\n",
        "\n",
        "def decimal_to_binary(n):\n",
        "    if n == 0:\n",
        "        return \"0\"\n",
        "    elif n == 1:\n",
        "        return \"1\"\n",
        "    else:\n",
        "        return decimal_to_binary(n//2) + str(n%2)\n",
        "\n",
        "decimal_number = int(input(\"Enter a decimal number: \"))\n",
        "binary_representation = decimal_to_binary(decimal_number)\n",
        "print(f\"The binary representation of {decimal_number} is: {binary_representation}\")\n"
      ],
      "metadata": {
        "colab": {
          "base_uri": "https://localhost:8080/"
        },
        "id": "Qc5L_uMg6WUA",
        "outputId": "1611f4e4-f021-48d1-b51c-4cdd7b045e04"
      },
      "execution_count": 11,
      "outputs": [
        {
          "output_type": "stream",
          "name": "stdout",
          "text": [
            "Enter a decimal number: 55\n",
            "The binary representation of 55 is: 110111\n"
          ]
        }
      ]
    },
    {
      "cell_type": "code",
      "source": [
        "#2\n",
        "#b\n",
        "\n",
        "class Node:\n",
        "    def __init__(self, element, next=None):\n",
        "        self.element = element\n",
        "        self.next = next\n",
        "\n",
        "\n",
        "class SinglyLinkedList:\n",
        "    def __init__(self, array):\n",
        "        node = Node(array[0])\n",
        "        self.head = node\n",
        "        for i in range(1, len(array)):\n",
        "            node.next = Node(array[i])\n",
        "            node = node.next\n",
        "\n",
        "    def __str__(self):\n",
        "        result = \"\"\n",
        "        itr = self.head\n",
        "        while itr != None:\n",
        "            result += str(itr.element) + \" \"\n",
        "            itr = itr.next\n",
        "        return result\n",
        "\n",
        "\n",
        "def add_all(head):\n",
        "    if head == None:\n",
        "        return 0\n",
        "    else:\n",
        "        return head.element + add_all(head.next)\n",
        "\n",
        "\n",
        "\n",
        "sll = SinglyLinkedList([10, 20, 30, 40, 50])\n",
        "print(\"The list is: \", sll)\n",
        "print(\"The sum of all elements is: \", add_all(sll.head))\n"
      ],
      "metadata": {
        "colab": {
          "base_uri": "https://localhost:8080/"
        },
        "id": "vwAdkYLt7412",
        "outputId": "5ea2fc40-77e3-4afe-9f46-e04a7f4e45f2"
      },
      "execution_count": 12,
      "outputs": [
        {
          "output_type": "stream",
          "name": "stdout",
          "text": [
            "The list is:  10 20 30 40 50 \n",
            "The sum of all elements is:  150\n"
          ]
        }
      ]
    },
    {
      "cell_type": "code",
      "source": [
        "#2\n",
        "#c\n",
        "\n",
        "class Node:\n",
        "    def __init__(self, element, next=None):\n",
        "        self.element = element\n",
        "        self.next = next\n",
        "\n",
        "\n",
        "class SinglyLinkedList:\n",
        "    def __init__(self, array):\n",
        "        node = Node(array[0])\n",
        "        self.head = node\n",
        "        for i in range(1, len(array)):\n",
        "            node.next = Node(array[i])\n",
        "            node = node.next\n",
        "\n",
        "    def __str__(self):\n",
        "        result = \"\"\n",
        "        itr = self.head\n",
        "        while itr != None:\n",
        "            result += str(itr.element) + \"\"\n",
        "            itr = itr.next\n",
        "        return result\n",
        "\n",
        "\n",
        "def printReversed(head):\n",
        "    if head == None:\n",
        "        return\n",
        "    else:\n",
        "        printReversed(head.next)\n",
        "        print(head.element)\n",
        "\n",
        "\n",
        "sll = SinglyLinkedList([10, 20, 30, 40])\n",
        "\n",
        "printReversed(sll.head)"
      ],
      "metadata": {
        "colab": {
          "base_uri": "https://localhost:8080/"
        },
        "id": "8c9B6r7A75LI",
        "outputId": "89635378-7c6a-45e7-d618-d5df00444893"
      },
      "execution_count": 13,
      "outputs": [
        {
          "output_type": "stream",
          "name": "stdout",
          "text": [
            "40\n",
            "30\n",
            "20\n",
            "10\n"
          ]
        }
      ]
    },
    {
      "cell_type": "code",
      "source": [
        "#3\n",
        "\n",
        "def hocBuilder(height):\n",
        "    if height == 0:\n",
        "        return 0\n",
        "    elif height == 1:\n",
        "        return 8\n",
        "    else:\n",
        "        return hocBuilder(height-1) + 5\n",
        "\n",
        "\n",
        "height = int(input(\"Enter the height of the HOC: \"))\n",
        "print(\"Cards Required:\",hocBuilder(height))\n"
      ],
      "metadata": {
        "colab": {
          "base_uri": "https://localhost:8080/"
        },
        "id": "E_mC0gd_75ln",
        "outputId": "699cd0db-f041-4abe-a284-1311190f2487"
      },
      "execution_count": null,
      "outputs": [
        {
          "output_type": "stream",
          "name": "stdout",
          "text": [
            "Enter the height of the HOC: 3\n",
            "Cards Required: 18\n"
          ]
        }
      ]
    },
    {
      "cell_type": "code",
      "source": [
        "#4\n",
        "#a\n",
        "\n",
        "def left(rows, n):\n",
        "\n",
        "    def series(rows, n):\n",
        "        if rows == 0:\n",
        "            return\n",
        "        print(n, end=\"\")\n",
        "        series(rows-1, n+1)\n",
        "\n",
        "    if rows == 0:\n",
        "        return\n",
        "\n",
        "    series(n - rows+1, 1)\n",
        "    print()\n",
        "    left(rows-1, n)\n",
        "\n",
        "\n",
        "left(5, 5)"
      ],
      "metadata": {
        "id": "EK1_nHbi-_49",
        "colab": {
          "base_uri": "https://localhost:8080/"
        },
        "outputId": "c6e67a47-4012-4559-95b8-dd694c1d0c71"
      },
      "execution_count": 2,
      "outputs": [
        {
          "output_type": "stream",
          "name": "stdout",
          "text": [
            "1\n",
            "12\n",
            "123\n",
            "1234\n",
            "12345\n"
          ]
        }
      ]
    },
    {
      "cell_type": "code",
      "source": [
        "#4\n",
        "#b\n",
        "\n",
        "def right(rows, n):\n",
        "\n",
        "    def series(rows, n):\n",
        "        if rows == 0:\n",
        "            return\n",
        "        print(n, end=\"\")\n",
        "        series(rows-1, n+1)\n",
        "\n",
        "    def white_spaces(n):\n",
        "        if n == 0:\n",
        "            return\n",
        "        print(\" \", end=\"\")\n",
        "        white_spaces(n-1)\n",
        "\n",
        "    if rows == 0:\n",
        "        return\n",
        "\n",
        "    white_spaces(rows-1)\n",
        "    series(n - rows+1, 1)\n",
        "    print()\n",
        "    right(rows-1, n)\n",
        "\n",
        "\n",
        "right(5, 5)"
      ],
      "metadata": {
        "colab": {
          "base_uri": "https://localhost:8080/"
        },
        "id": "SNjKBzNwh8vE",
        "outputId": "21a3dea1-6e1f-4103-e303-4ceb425b2dd5"
      },
      "execution_count": 3,
      "outputs": [
        {
          "output_type": "stream",
          "name": "stdout",
          "text": [
            "    1\n",
            "   12\n",
            "  123\n",
            " 1234\n",
            "12345\n"
          ]
        }
      ]
    },
    {
      "cell_type": "code",
      "source": [
        "#5\n",
        "\n",
        "class FinalQ:\n",
        "\n",
        "    def __init__(self):\n",
        "        pass\n",
        "\n",
        "\n",
        "    def print(self, array, idx):\n",
        "        if(idx < len(array)):\n",
        "            profit = self.calcProfit(array[idx])\n",
        "            print(f'{idx + 1}. Investment: {array[idx]}; Profit: {profit}')\n",
        "            self.print(array, idx+1)\n",
        "        else:\n",
        "            return\n",
        "\n",
        "\n",
        "\n",
        "    def calcProfit(self, investment):\n",
        "        if investment <= 25000:\n",
        "            return 0.0\n",
        "\n",
        "        elif 25000 < investment <= 100000:\n",
        "            return 45.0 + self.calcProfit(investment-1000)\n",
        "\n",
        "        elif 100000 < investment:\n",
        "            return 80.0 + self.calcProfit(investment-1000)\n",
        "\n",
        "\n",
        "array = [25000, 100000, 250000, 350000]\n",
        "f = FinalQ()\n",
        "f.print(array,0)"
      ],
      "metadata": {
        "colab": {
          "base_uri": "https://localhost:8080/"
        },
        "id": "EF-arW14iGW9",
        "outputId": "3e22886c-d45a-4712-ebd6-9b14a70b8da1"
      },
      "execution_count": 4,
      "outputs": [
        {
          "output_type": "stream",
          "name": "stdout",
          "text": [
            "1. Investment: 25000; Profit: 0.0\n",
            "2. Investment: 100000; Profit: 3375.0\n",
            "3. Investment: 250000; Profit: 15375.0\n",
            "4. Investment: 350000; Profit: 23375.0\n"
          ]
        }
      ]
    },
    {
      "cell_type": "code",
      "source": [
        "#MUST FINISH Recursion Task Lab\n",
        "\n",
        "def flattenList(given_list, output_list):\n",
        "    if len(given_list) == 0:\n",
        "        return output_list\n",
        "    if isinstance(given_list[0], list):\n",
        "        output_list = flattenList(given_list[0], output_list)\n",
        "    else:\n",
        "        output_list.append(given_list[0])\n",
        "    return flattenList(given_list[1:], output_list)\n",
        "\n",
        "given_list = [1, [2, [3, [4], 5], 6], 7, 8, [9, [[10, 11], 12], 13], 14, [15, [16, [17]]]]\n",
        "output_list = flattenList(given_list, [])\n",
        "print(output_list)"
      ],
      "metadata": {
        "colab": {
          "base_uri": "https://localhost:8080/"
        },
        "id": "w2-KvsUliGyy",
        "outputId": "f00f7abd-95a1-4120-fa8c-5505c58f7ed7"
      },
      "execution_count": 14,
      "outputs": [
        {
          "output_type": "stream",
          "name": "stdout",
          "text": [
            "[1, 2, 3, 4, 5, 6, 7, 8, 9, 10, 11, 12, 13, 14, 15, 16, 17]\n"
          ]
        }
      ]
    }
  ]
}